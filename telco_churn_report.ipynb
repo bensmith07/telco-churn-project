{
 "cells": [
  {
   "cell_type": "code",
   "execution_count": 1,
   "id": "ce6ec5b1",
   "metadata": {},
   "outputs": [],
   "source": [
    "import scipy.stats as stats\n",
    "import matplotlib.pyplot as plt\n",
    "\n",
    "import acquire\n",
    "import prepare\n",
    "import explore\n",
    "\n",
    "import warnings\n",
    "warnings.filterwarnings('ignore')"
   ]
  },
  {
   "cell_type": "markdown",
   "id": "609ef0ce",
   "metadata": {},
   "source": [
    "# Acquire"
   ]
  },
  {
   "cell_type": "markdown",
   "id": "aba1f8f0",
   "metadata": {},
   "source": [
    "In this stage, I used a SQL query to access the Codeup MySQL database and joined together all the relevant data using the following tables:\n",
    "- customers\n",
    "- contract_types\n",
    "- internet_service_types\n",
    "- payment_types\n",
    "\n",
    "The code to access the database and obtain this data is encapsulated in get_telco_data function in the acquire module."
   ]
  },
  {
   "cell_type": "code",
   "execution_count": 2,
   "id": "5af2668c",
   "metadata": {},
   "outputs": [
    {
     "name": "stdout",
     "output_type": "stream",
     "text": [
      "Reading from local CSV...\n"
     ]
    }
   ],
   "source": [
    "# utilize the get_telco_data() function to create a dataframe of customer data\n",
    "df = acquire.get_telco_data()"
   ]
  },
  {
   "cell_type": "markdown",
   "id": "0309b1c0",
   "metadata": {},
   "source": [
    "# Prepare"
   ]
  },
  {
   "cell_type": "markdown",
   "id": "307698e7",
   "metadata": {},
   "source": [
    "In this stage, I cleaned and prepared the data for further exploration and modeling and encapsulated the relevant code in the prepare module.\n",
    "\n",
    "The prep_telco_1 function accomplishes the following: \n",
    "- drops any duplicate rows that may be present\n",
    "- fixes a formatting issue in the total_charges column\n",
    "- removes customers with a 0 value for tenure (brand new customers who have not had an opportunity to churn are not relevant to our study)\n",
    "- drops unnecessary or unhelpful columns which can provide no additional predictive value, including:\n",
    "    - payment_type_id\n",
    "    - internet_service_type_id\n",
    "    - contract_type id\n",
    "    - customer_id\n",
    "    - total_charges (because it is merely a function of monthly charges and tenure)\n",
    "- changes values in the senior_citizen column to Yes/No instead of 1/0 for readability\n",
    "- creates new features, including: \n",
    "    - tenure_quarters, which represents which quarter of service a customer is currently in (or was in at the time of churn). \n",
    "    - tenure_years, which represents which year of service a customer is currently in (or was in at the time of churn). "
   ]
  },
  {
   "cell_type": "markdown",
   "id": "1d714e6d",
   "metadata": {},
   "source": [
    "The prep_telco_2 function accomplishes the following:\n",
    "\n",
    "    - encodes categorical variables into machine-readable 1's and 0's"
   ]
  },
  {
   "cell_type": "code",
   "execution_count": 3,
   "id": "3690fb17",
   "metadata": {},
   "outputs": [],
   "source": [
    "df = prepare.prep_telco_1(df)"
   ]
  },
  {
   "cell_type": "code",
   "execution_count": 4,
   "id": "8f97073b",
   "metadata": {},
   "outputs": [],
   "source": [
    "df = prepare.prep_telco_2(df)"
   ]
  },
  {
   "cell_type": "markdown",
   "id": "3af6e230",
   "metadata": {},
   "source": [
    "Here we split the sample into three distinct samples:\n",
    "\n",
    "- `train`\n",
    "    - we explore the data and train our machine learning models using this sample\n",
    "- `validate`\n",
    "    - we then evaluate the model's performance on data with which it was not trained, using this sample\n",
    "- `test`\n",
    "    - once we have chosen the model with the best performance, we conduct one final test on this sample to simulate how the model might perform on new data once it is placed into production\n",
    "\n",
    "\n",
    "\n",
    "The `train_test_validate_split` function from the prepare module accomplishes all of this. The number of records in each sample can be seen below.\n"
   ]
  },
  {
   "cell_type": "code",
   "execution_count": 5,
   "id": "43fc7082",
   "metadata": {},
   "outputs": [
    {
     "name": "stdout",
     "output_type": "stream",
     "text": [
      "train\t n = 3937\n",
      "test\t n = 1407\n",
      "validate n = 1688\n"
     ]
    }
   ],
   "source": [
    "# define target variable\n",
    "target = 'churn'\n",
    "\n",
    "# utilizing the function defined in prepare.py, split the data into train, test, and validate samples\n",
    "train, test, validate = prepare.train_test_validate_split(df, target)"
   ]
  },
  {
   "cell_type": "markdown",
   "id": "e4ee4010",
   "metadata": {},
   "source": [
    "# Explore"
   ]
  },
  {
   "cell_type": "markdown",
   "id": "b3fe3f97",
   "metadata": {},
   "source": [
    "In this stage, we use data visualization techniques to get a good overall understaning of our data, as well as to help answer some specific questions. "
   ]
  },
  {
   "cell_type": "markdown",
   "id": "cbb45e07",
   "metadata": {},
   "source": [
    "### Initial Exploration - Univariate"
   ]
  },
  {
   "cell_type": "markdown",
   "id": "006ae19e",
   "metadata": {},
   "source": [
    "Here, we explore the distribution of customers among the different categories, such as how many of our customers are senior citizens, or how many customers have each internet service type. \n",
    "\n",
    "The `univar_categorical` function from the `explore` module uses the `train` sample to produce the visualizations shown below. "
   ]
  },
  {
   "cell_type": "code",
   "execution_count": 6,
   "id": "cffc26a7",
   "metadata": {
    "scrolled": true
   },
   "outputs": [
    {
     "name": "stdout",
     "output_type": "stream",
     "text": [
      "        gender_counts\n",
      "Male             1987\n",
      "Female           1950\n"
     ]
    },
    {
     "data": {
      "image/png": "[encoded data removed]",
      "text/plain": [
       "<Figure size 432x288 with 1 Axes>"
      ]
     },
     "metadata": {
      "needs_background": "light"
     },
     "output_type": "display_data"
    },
    {
     "name": "stdout",
     "output_type": "stream",
     "text": [
      "     senior_citizen_counts\n",
      "No                    3312\n",
      "Yes                    625\n"
     ]
    },
    {
     "data": {
      "image/png": "[encoded data removed]",
      "text/plain": [
       "<Figure size 432x288 with 1 Axes>"
      ]
     },
     "metadata": {
      "needs_background": "light"
     },
     "output_type": "display_data"
    },
    {
     "name": "stdout",
     "output_type": "stream",
     "text": [
      "     partner_counts\n",
      "No             2067\n",
      "Yes            1870\n"
     ]
    },
    {
     "data": {
      "image/png": "[encoded data removed]",
      "text/plain": [
       "<Figure size 432x288 with 1 Axes>"
      ]
     },
     "metadata": {
      "needs_background": "light"
     },
     "output_type": "display_data"
    },
    {
     "name": "stdout",
     "output_type": "stream",
     "text": [
      "     dependents_counts\n",
      "No                2764\n",
      "Yes               1173\n"
     ]
    },
    {
     "data": {
      "image/png": "[encoded data removed]",
      "text/plain": [
       "<Figure size 432x288 with 1 Axes>"
      ]
     },
     "metadata": {
      "needs_background": "light"
     },
     "output_type": "display_data"
    },
    {
     "name": "stdout",
     "output_type": "stream",
     "text": [
      "     phone_service_counts\n",
      "Yes                  3542\n",
      "No                    395\n"
     ]
    },
    {
     "data": {
      "image/png": "[encoded data removed]",
      "text/plain": [
       "<Figure size 432x288 with 1 Axes>"
      ]
     },
     "metadata": {
      "needs_background": "light"
     },
     "output_type": "display_data"
    },
    {
     "name": "stdout",
     "output_type": "stream",
     "text": [
      "                  multiple_lines_counts\n",
      "No                                 1858\n",
      "Yes                                1684\n",
      "No phone service                    395\n"
     ]
    },
    {
     "data": {
      "image/png": "[encoded data removed]",
      "text/plain": [
       "<Figure size 432x288 with 1 Axes>"
      ]
     },
     "metadata": {
      "needs_background": "light"
     },
     "output_type": "display_data"
    },
    {
     "name": "stdout",
     "output_type": "stream",
     "text": [
      "                     online_security_counts\n",
      "No                                     1971\n",
      "Yes                                    1147\n",
      "No internet service                     819\n"
     ]
    },
    {
     "data": {
      "image/png": "[encoded data removed]",
      "text/plain": [
       "<Figure size 432x288 with 1 Axes>"
      ]
     },
     "metadata": {
      "needs_background": "light"
     },
     "output_type": "display_data"
    },
    {
     "name": "stdout",
     "output_type": "stream",
     "text": [
      "                     online_backup_counts\n",
      "No                                   1761\n",
      "Yes                                  1357\n",
      "No internet service                   819\n"
     ]
    },
    {
     "data": {
      "image/png": "[encoded data removed]",
      "text/plain": [
       "<Figure size 432x288 with 1 Axes>"
      ]
     },
     "metadata": {
      "needs_background": "light"
     },
     "output_type": "display_data"
    },
    {
     "name": "stdout",
     "output_type": "stream",
     "text": [
      "                     device_protection_counts\n",
      "No                                       1776\n",
      "Yes                                      1342\n",
      "No internet service                       819\n"
     ]
    },
    {
     "data": {
      "image/png": "[encoded data removed]",
      "text/plain": [
       "<Figure size 432x288 with 1 Axes>"
      ]
     },
     "metadata": {
      "needs_background": "light"
     },
     "output_type": "display_data"
    },
    {
     "name": "stdout",
     "output_type": "stream",
     "text": [
      "                     tech_support_counts\n",
      "No                                  1978\n",
      "Yes                                 1140\n",
      "No internet service                  819\n"
     ]
    },
    {
     "data": {
      "image/png": "[encoded data removed]",
      "text/plain": [
       "<Figure size 432x288 with 1 Axes>"
      ]
     },
     "metadata": {
      "needs_background": "light"
     },
     "output_type": "display_data"
    },
    {
     "name": "stdout",
     "output_type": "stream",
     "text": [
      "                     streaming_tv_counts\n",
      "No                                  1602\n",
      "Yes                                 1516\n",
      "No internet service                  819\n"
     ]
    },
    {
     "data": {
      "image/png": "[encoded data removed]",
      "text/plain": [
       "<Figure size 432x288 with 1 Axes>"
      ]
     },
     "metadata": {
      "needs_background": "light"
     },
     "output_type": "display_data"
    },
    {
     "name": "stdout",
     "output_type": "stream",
     "text": [
      "                     streaming_movies_counts\n",
      "No                                      1585\n",
      "Yes                                     1533\n",
      "No internet service                      819\n"
     ]
    },
    {
     "data": {
      "image/png": "[encoded data removed]",
      "text/plain": [
       "<Figure size 432x288 with 1 Axes>"
      ]
     },
     "metadata": {
      "needs_background": "light"
     },
     "output_type": "display_data"
    },
    {
     "name": "stdout",
     "output_type": "stream",
     "text": [
      "     paperless_billing_counts\n",
      "Yes                      2368\n",
      "No                       1569\n"
     ]
    },
    {
     "data": {
      "image/png": "[encoded data removed]",
      "text/plain": [
       "<Figure size 432x288 with 1 Axes>"
      ]
     },
     "metadata": {
      "needs_background": "light"
     },
     "output_type": "display_data"
    },
    {
     "name": "stdout",
     "output_type": "stream",
     "text": [
      "     churn_counts\n",
      "No           2891\n",
      "Yes          1046\n"
     ]
    },
    {
     "data": {
      "image/png": "[encoded data removed]",
      "text/plain": [
       "<Figure size 432x288 with 1 Axes>"
      ]
     },
     "metadata": {
      "needs_background": "light"
     },
     "output_type": "display_data"
    },
    {
     "name": "stdout",
     "output_type": "stream",
     "text": [
      "                contract_type_counts\n",
      "Month-to-month                  2181\n",
      "Two year                         924\n",
      "One year                         832\n"
     ]
    },
    {
     "data": {
      "image/png": "[encoded data removed]",
      "text/plain": [
       "<Figure size 432x288 with 1 Axes>"
      ]
     },
     "metadata": {
      "needs_background": "light"
     },
     "output_type": "display_data"
    },
    {
     "name": "stdout",
     "output_type": "stream",
     "text": [
      "             internet_service_type_counts\n",
      "Fiber optic                          1744\n",
      "DSL                                  1374\n",
      "None                                  819\n"
     ]
    },
    {
     "data": {
      "image/png": "[encoded data removed]",
      "text/plain": [
       "<Figure size 432x288 with 1 Axes>"
      ]
     },
     "metadata": {
      "needs_background": "light"
     },
     "output_type": "display_data"
    },
    {
     "name": "stdout",
     "output_type": "stream",
     "text": [
      "                           payment_type_counts\n",
      "Electronic check                          1330\n",
      "Mailed check                               906\n",
      "Credit card (automatic)                    854\n",
      "Bank transfer (automatic)                  847\n"
     ]
    },
    {
     "data": {
      "image/png": "[encoded data removed]",
      "text/plain": [
       "<Figure size 432x288 with 1 Axes>"
      ]
     },
     "metadata": {
      "needs_background": "light"
     },
     "output_type": "display_data"
    }
   ],
   "source": [
    "explore.univar_categorical(train)"
   ]
  },
  {
   "cell_type": "markdown",
   "id": "3bd186b1",
   "metadata": {},
   "source": [
    "Then we explore the distribution of customers across the possible values for continuous variables, including the amount of monthly charges and the customer's tenure.\n",
    "\n",
    "The `univar_quantitative` function from the `explore` module uses the `train` sample to produce the visualizations shown below. "
   ]
  },
  {
   "cell_type": "code",
   "execution_count": 7,
   "id": "ea784e5c",
   "metadata": {
    "scrolled": true
   },
   "outputs": [
    {
     "data": {
      "image/png": "[encoded data removed]",
      "text/plain": [
       "<Figure size 432x288 with 1 Axes>"
      ]
     },
     "metadata": {
      "needs_background": "light"
     },
     "output_type": "display_data"
    },
    {
     "data": {
      "image/png": "[encoded data removed]",
      "text/plain": [
       "<Figure size 432x288 with 1 Axes>"
      ]
     },
     "metadata": {
      "needs_background": "light"
     },
     "output_type": "display_data"
    },
    {
     "name": "stdout",
     "output_type": "stream",
     "text": [
      "       monthly_charges\n",
      "count      3937.000000\n",
      "mean         65.054305\n",
      "std          29.855770\n",
      "min          18.550000\n",
      "25%          38.900000\n",
      "50%          70.350000\n",
      "75%          89.800000\n",
      "max         118.750000\n"
     ]
    },
    {
     "data": {
      "image/png": "[encoded data removed]",
      "text/plain": [
       "<Figure size 432x288 with 1 Axes>"
      ]
     },
     "metadata": {
      "needs_background": "light"
     },
     "output_type": "display_data"
    },
    {
     "data": {
      "image/png": "[encoded data removed]",
      "text/plain": [
       "<Figure size 432x288 with 1 Axes>"
      ]
     },
     "metadata": {
      "needs_background": "light"
     },
     "output_type": "display_data"
    },
    {
     "name": "stdout",
     "output_type": "stream",
     "text": [
      "       tenure_months\n",
      "count    3937.000000\n",
      "mean       32.183896\n",
      "std        24.599572\n",
      "min         1.000000\n",
      "25%         9.000000\n",
      "50%        28.000000\n",
      "75%        55.000000\n",
      "max        72.000000\n"
     ]
    }
   ],
   "source": [
    "explore.univar_quantitative(train)"
   ]
  },
  {
   "cell_type": "markdown",
   "id": "8fe16de2",
   "metadata": {},
   "source": [
    "### Initial Exploration - Bivariate"
   ]
  },
  {
   "cell_type": "markdown",
   "id": "b06dd125",
   "metadata": {},
   "source": [
    "Next, we explore the average values for monthly charges and tenure for customers who have churned versus those whoh have not. \n",
    "\n",
    "The `bivar_quantitative` function from the `explore` module uses the `train` sample to produce the visualizations shown below. "
   ]
  },
  {
   "cell_type": "code",
   "execution_count": 8,
   "id": "7d33569d",
   "metadata": {},
   "outputs": [
    {
     "data": {
      "image/png": "[encoded data removed]",
      "text/plain": [
       "<Figure size 432x288 with 1 Axes>"
      ]
     },
     "metadata": {
      "needs_background": "light"
     },
     "output_type": "display_data"
    },
    {
     "data": {
      "image/png": "[encoded data removed]",
      "text/plain": [
       "<Figure size 432x288 with 1 Axes>"
      ]
     },
     "metadata": {
      "needs_background": "light"
     },
     "output_type": "display_data"
    }
   ],
   "source": [
    "explore.bivar_quantitative(train, target)"
   ]
  },
  {
   "cell_type": "markdown",
   "id": "3180884a",
   "metadata": {},
   "source": [
    "### Initial Exploration - Multivariate\n",
    "\n",
    "We then explore those categories further by looking at the distributions of monthly charges and tenure for customers have churned vs those who have not. \n",
    "\n",
    "The `explore_multivar_1` function from the `explore` module uses the `train` sample to produce the visualizations shown below. "
   ]
  },
  {
   "cell_type": "code",
   "execution_count": 9,
   "id": "475b98c4",
   "metadata": {},
   "outputs": [
    {
     "data": {
      "image/png": "[encoded data removed]",
      "text/plain": [
       "<Figure size 412x360 with 6 Axes>"
      ]
     },
     "metadata": {
      "needs_background": "light"
     },
     "output_type": "display_data"
    }
   ],
   "source": [
    "explore.multivar_1(train, target)"
   ]
  },
  {
   "cell_type": "markdown",
   "id": "cad8d3f0",
   "metadata": {},
   "source": [
    "Next we explore how each of the variables correlates with whether a customer has churned. For this exploration, we have used the encoded (1's and 0's) version of our categorical variables. \n",
    "\n",
    "While correlation values between categorical values are not the most statistically sound metrics, this helps us get a basic understanding of how much each variable relates to our target, and provides a jumping off point for further exploration. \n",
    "\n",
    "The `explore_multivar_1` function from the `explore` module uses the `train` sample to produce the correlation chart shown below. "
   ]
  },
  {
   "cell_type": "code",
   "execution_count": 10,
   "id": "21ee2dbf",
   "metadata": {},
   "outputs": [
    {
     "data": {
      "text/html": [
       "<div>\n",
       "<style scoped>\n",
       "    .dataframe tbody tr th:only-of-type {\n",
       "        vertical-align: middle;\n",
       "    }\n",
       "\n",
       "    .dataframe tbody tr th {\n",
       "        vertical-align: top;\n",
       "    }\n",
       "\n",
       "    .dataframe thead th {\n",
       "        text-align: right;\n",
       "    }\n",
       "</style>\n",
       "<table border=\"1\" class=\"dataframe\">\n",
       "  <thead>\n",
       "    <tr style=\"text-align: right;\">\n",
       "      <th></th>\n",
       "      <th>enc_churn</th>\n",
       "    </tr>\n",
       "  </thead>\n",
       "  <tbody>\n",
       "    <tr>\n",
       "      <th>enc_churn</th>\n",
       "      <td>1.000000</td>\n",
       "    </tr>\n",
       "    <tr>\n",
       "      <th>tenure_months</th>\n",
       "      <td>0.360733</td>\n",
       "    </tr>\n",
       "    <tr>\n",
       "      <th>tenure_quarters</th>\n",
       "      <td>0.359064</td>\n",
       "    </tr>\n",
       "    <tr>\n",
       "      <th>tenure_years</th>\n",
       "      <td>0.347744</td>\n",
       "    </tr>\n",
       "    <tr>\n",
       "      <th>enc_payment_type_electronic check</th>\n",
       "      <td>0.327841</td>\n",
       "    </tr>\n",
       "    <tr>\n",
       "      <th>enc_internet_service_type_fiber optic</th>\n",
       "      <td>0.309845</td>\n",
       "    </tr>\n",
       "    <tr>\n",
       "      <th>enc_contract_type_two year</th>\n",
       "      <td>0.300538</td>\n",
       "    </tr>\n",
       "    <tr>\n",
       "      <th>enc_internet_service_type_none</th>\n",
       "      <td>0.230359</td>\n",
       "    </tr>\n",
       "    <tr>\n",
       "      <th>enc_streaming_movies_no internet service</th>\n",
       "      <td>0.230359</td>\n",
       "    </tr>\n",
       "    <tr>\n",
       "      <th>enc_streaming_tv_no internet service</th>\n",
       "      <td>0.230359</td>\n",
       "    </tr>\n",
       "    <tr>\n",
       "      <th>enc_tech_support_no internet service</th>\n",
       "      <td>0.230359</td>\n",
       "    </tr>\n",
       "    <tr>\n",
       "      <th>enc_online_backup_no internet service</th>\n",
       "      <td>0.230359</td>\n",
       "    </tr>\n",
       "    <tr>\n",
       "      <th>enc_online_security_no internet service</th>\n",
       "      <td>0.230359</td>\n",
       "    </tr>\n",
       "    <tr>\n",
       "      <th>enc_device_protection_no internet service</th>\n",
       "      <td>0.230359</td>\n",
       "    </tr>\n",
       "    <tr>\n",
       "      <th>monthly_charges</th>\n",
       "      <td>0.197832</td>\n",
       "    </tr>\n",
       "    <tr>\n",
       "      <th>enc_contract_type_one year</th>\n",
       "      <td>0.184594</td>\n",
       "    </tr>\n",
       "    <tr>\n",
       "      <th>enc_paperless_billing_yes</th>\n",
       "      <td>0.181890</td>\n",
       "    </tr>\n",
       "    <tr>\n",
       "      <th>enc_tech_support_yes</th>\n",
       "      <td>0.172279</td>\n",
       "    </tr>\n",
       "    <tr>\n",
       "      <th>enc_senior_citizen_yes</th>\n",
       "      <td>0.171438</td>\n",
       "    </tr>\n",
       "    <tr>\n",
       "      <th>enc_partner_yes</th>\n",
       "      <td>0.166780</td>\n",
       "    </tr>\n",
       "    <tr>\n",
       "      <th>enc_dependents_yes</th>\n",
       "      <td>0.164271</td>\n",
       "    </tr>\n",
       "    <tr>\n",
       "      <th>enc_online_security_yes</th>\n",
       "      <td>0.159135</td>\n",
       "    </tr>\n",
       "    <tr>\n",
       "      <th>enc_payment_type_credit card (automatic)</th>\n",
       "      <td>0.149147</td>\n",
       "    </tr>\n",
       "    <tr>\n",
       "      <th>enc_payment_type_mailed check</th>\n",
       "      <td>0.091140</td>\n",
       "    </tr>\n",
       "    <tr>\n",
       "      <th>enc_online_backup_yes</th>\n",
       "      <td>0.086554</td>\n",
       "    </tr>\n",
       "    <tr>\n",
       "      <th>enc_streaming_tv_yes</th>\n",
       "      <td>0.079440</td>\n",
       "    </tr>\n",
       "    <tr>\n",
       "      <th>enc_device_protection_yes</th>\n",
       "      <td>0.067391</td>\n",
       "    </tr>\n",
       "    <tr>\n",
       "      <th>enc_streaming_movies_yes</th>\n",
       "      <td>0.062158</td>\n",
       "    </tr>\n",
       "    <tr>\n",
       "      <th>enc_multiple_lines_yes</th>\n",
       "      <td>0.029740</td>\n",
       "    </tr>\n",
       "    <tr>\n",
       "      <th>enc_multiple_lines_no phone service</th>\n",
       "      <td>0.019036</td>\n",
       "    </tr>\n",
       "    <tr>\n",
       "      <th>enc_phone_service_yes</th>\n",
       "      <td>0.019036</td>\n",
       "    </tr>\n",
       "    <tr>\n",
       "      <th>enc_gender_male</th>\n",
       "      <td>0.003353</td>\n",
       "    </tr>\n",
       "  </tbody>\n",
       "</table>\n",
       "</div>"
      ],
      "text/plain": [
       "                                           enc_churn\n",
       "enc_churn                                   1.000000\n",
       "tenure_months                               0.360733\n",
       "tenure_quarters                             0.359064\n",
       "tenure_years                                0.347744\n",
       "enc_payment_type_electronic check           0.327841\n",
       "enc_internet_service_type_fiber optic       0.309845\n",
       "enc_contract_type_two year                  0.300538\n",
       "enc_internet_service_type_none              0.230359\n",
       "enc_streaming_movies_no internet service    0.230359\n",
       "enc_streaming_tv_no internet service        0.230359\n",
       "enc_tech_support_no internet service        0.230359\n",
       "enc_online_backup_no internet service       0.230359\n",
       "enc_online_security_no internet service     0.230359\n",
       "enc_device_protection_no internet service   0.230359\n",
       "monthly_charges                             0.197832\n",
       "enc_contract_type_one year                  0.184594\n",
       "enc_paperless_billing_yes                   0.181890\n",
       "enc_tech_support_yes                        0.172279\n",
       "enc_senior_citizen_yes                      0.171438\n",
       "enc_partner_yes                             0.166780\n",
       "enc_dependents_yes                          0.164271\n",
       "enc_online_security_yes                     0.159135\n",
       "enc_payment_type_credit card (automatic)    0.149147\n",
       "enc_payment_type_mailed check               0.091140\n",
       "enc_online_backup_yes                       0.086554\n",
       "enc_streaming_tv_yes                        0.079440\n",
       "enc_device_protection_yes                   0.067391\n",
       "enc_streaming_movies_yes                    0.062158\n",
       "enc_multiple_lines_yes                      0.029740\n",
       "enc_multiple_lines_no phone service         0.019036\n",
       "enc_phone_service_yes                       0.019036\n",
       "enc_gender_male                             0.003353"
      ]
     },
     "execution_count": 10,
     "metadata": {},
     "output_type": "execute_result"
    }
   ],
   "source": [
    "explore.multivar_absolute_correlations(train)"
   ]
  },
  {
   "cell_type": "markdown",
   "id": "2224c477",
   "metadata": {},
   "source": [
    "### Further Exploration - Does demographic information affect churn?"
   ]
  },
  {
   "cell_type": "markdown",
   "id": "48bf6c2d",
   "metadata": {},
   "source": [
    "#### Is churn independent of gender?\n",
    "\n",
    "Establish Hypotheses:\n",
    "\n",
    "H0: Whether a customer has churned is independent of their gender\n",
    "\n",
    "H1: Whether a customer has churned is not independent of their gender"
   ]
  },
  {
   "cell_type": "markdown",
   "id": "307d678a",
   "metadata": {},
   "source": [
    "The `chi2_test` function from the `explore` module runs a statistical test to determine the likelihood that the differences we see between the observed and expected values of gender versus churn might occur by chance. "
   ]
  },
  {
   "cell_type": "code",
   "execution_count": 12,
   "id": "0d9087ea",
   "metadata": {},
   "outputs": [
    {
     "name": "stdout",
     "output_type": "stream",
     "text": [
      "Observed\n",
      "\n",
      "[[1429 1462]\n",
      " [ 521  525]]\n",
      "---\n",
      "Expected\n",
      "\n",
      "[[1431.9 1459.1]\n",
      " [ 518.1  527.9]]\n",
      "---\n",
      "\n",
      "chi^2 = 0.0304\n",
      "p     = 0.8616\n",
      "\n",
      "Fail to Reject H0\n"
     ]
    }
   ],
   "source": [
    "explore.chi2_test(train.churn, train.gender)"
   ]
  },
  {
   "cell_type": "markdown",
   "id": "ba330526",
   "metadata": {},
   "source": [
    "The p-value of .8616 indicates that there is roughly an 86% percent probability that these differences would occur by chance. With this in mind, we fail to reject the null hypothesis, and we proceed under the assumption that whether a customer has churned is independent of their gender. "
   ]
  },
  {
   "cell_type": "markdown",
   "id": "c8ef3cde",
   "metadata": {},
   "source": [
    "#### Is churn independent of senior citizen status?"
   ]
  },
  {
   "cell_type": "markdown",
   "id": "e1cae041",
   "metadata": {},
   "source": [
    "Establish hypotheses: \n",
    "    \n",
    "H0: Whether a customer has churned is independent of whether they are a senior citizen\n",
    "    \n",
    "H1: Whether a customer has churned is not independent of whether they are a senior citizen\n",
    "\n",
    "The `chi2_test` function from the `explore` module runs a statistical test to determine the likelihood that the differences we see between the observed and expected values of senior_citizen versus churn might occur by chance. "
   ]
  },
  {
   "cell_type": "code",
   "execution_count": 14,
   "id": "a5727783",
   "metadata": {},
   "outputs": [
    {
     "name": "stdout",
     "output_type": "stream",
     "text": [
      "Observed\n",
      "\n",
      "[[2541  350]\n",
      " [ 771  275]]\n",
      "---\n",
      "Expected\n",
      "\n",
      "[[2432.1  458.9]\n",
      " [ 879.9  166.1]]\n",
      "---\n",
      "\n",
      "chi^2 = 114.6522\n",
      "p     = 0.0000\n",
      "\n",
      "Reject H0\n"
     ]
    }
   ],
   "source": [
    "# run the test and display results\n",
    "explore.chi2_test(train.churn, train.senior_citizen)"
   ]
  },
  {
   "cell_type": "markdown",
   "id": "dc351a4d",
   "metadata": {},
   "source": [
    "The p-value of 0.0000 indicates that there is virtually a 0 percent probability that these differences would occur by chance. With this in mind, wereject the null hypothesis, and we proceed under the assumption that a customer's senior citizen status is not independent of whether they have churned. "
   ]
  },
  {
   "cell_type": "markdown",
   "id": "91e8568d",
   "metadata": {},
   "source": [
    "#### Is churn independent of whether a customer has a partner?"
   ]
  },
  {
   "cell_type": "markdown",
   "id": "da8fd2ef",
   "metadata": {},
   "source": [
    "Establish hypotheses:\n",
    "\n",
    "H0: Whether a customer has churned is independent of whether they have a partner\n",
    "    \n",
    "H1: Whether a customer has churned is not independent of whether they have a partner\n",
    "    \n",
    "The `chi2_test` function from the `explore` module runs a statistical test to determine the likelihood that the differences we see between the observed and expected values of partner versus churn might occur by chance. "
   ]
  },
  {
   "cell_type": "code",
   "execution_count": 16,
   "id": "2fa00dbf",
   "metadata": {},
   "outputs": [
    {
     "name": "stdout",
     "output_type": "stream",
     "text": [
      "Observed\n",
      "\n",
      "[[1373 1518]\n",
      " [ 694  352]]\n",
      "---\n",
      "Expected\n",
      "\n",
      "[[1517.8 1373.2]\n",
      " [ 549.2  496.8]]\n",
      "---\n",
      "\n",
      "chi^2 = 108.7547\n",
      "p     = 0.0000\n",
      "\n",
      "Reject H0\n"
     ]
    }
   ],
   "source": [
    "# run the test and display results\n",
    "explore.chi2_test(train.churn, train.partner)"
   ]
  },
  {
   "cell_type": "markdown",
   "id": "0db7b8af",
   "metadata": {},
   "source": [
    "The p-value of 0.0000 indicates that there is virtually a 0 percent probability that these differences would occur by chance. With this in mind, wereject the null hypothesis, and we proceed under the assumption that whether a customer has a partner is not independent of whether they have churned. "
   ]
  },
  {
   "cell_type": "markdown",
   "id": "971e6878",
   "metadata": {},
   "source": [
    "#### Is churn independent of whether a customer has dependents?"
   ]
  },
  {
   "cell_type": "markdown",
   "id": "5e0b26ba",
   "metadata": {},
   "source": [
    "Establish hypotheses\n",
    "\n",
    "H0: Whether a customer has churned is independent of whether they have dependents\n",
    "H1: Whether a customer has churned is not independent of whether they have dependents\n",
    "    \n",
    "The `chi2_test` function from the `explore` module runs a statistical test to determine the likelihood that the differences we see between the observed and expected values of depedants versus churn might occur by chance. "
   ]
  },
  {
   "cell_type": "code",
   "execution_count": 31,
   "id": "efc69893",
   "metadata": {},
   "outputs": [
    {
     "name": "stdout",
     "output_type": "stream",
     "text": [
      "Observed\n",
      "\n",
      "[[1899  992]\n",
      " [ 865  181]]\n",
      "---\n",
      "Expected\n",
      "\n",
      "[[2029.6  861.4]\n",
      " [ 734.4  311.6]]\n",
      "---\n",
      "\n",
      "chi^2 = 105.4278\n",
      "p     = 0.0000\n",
      "\n",
      "Reject H0\n"
     ]
    }
   ],
   "source": [
    "# run the test and display results\n",
    "explore.chi2_test(train.churn, train.dependents)"
   ]
  },
  {
   "cell_type": "markdown",
   "id": "36f12e63",
   "metadata": {},
   "source": [
    "The p-value of 0.0000 indicates that there is virtually a 0 percent probability that these differences would occur by chance. With this in mind, wereject the null hypothesis, and we proceed under the assumption that whether a customer has dependants is not independent of whether they have churned. "
   ]
  },
  {
   "cell_type": "markdown",
   "id": "0c000ba9",
   "metadata": {},
   "source": [
    "### Further Exploration - Do customers who churn have higher average monthly charges than those who don't?"
   ]
  },
  {
   "cell_type": "markdown",
   "id": "a3f60c1e",
   "metadata": {},
   "source": [
    "Establish hypotheses\n",
    "\n",
    "H0: Average monthly charges is the same for customers who have churned and those who have not\n",
    "\n",
    "H1: Average monthly charges are higher for customers who have churned than for those who have not\n",
    "\n",
    "The `hypothesis_test_monthly_charges` function from the `explore` module runs a statistical test to determine the likelihood that the difference that we see between mean monthly charges for customers who have churned and those who have not might occur by chance. "
   ]
  },
  {
   "cell_type": "code",
   "execution_count": 21,
   "id": "d132d46c",
   "metadata": {},
   "outputs": [
    {
     "name": "stdout",
     "output_type": "stream",
     "text": [
      "MANN-WHITNEY U TEST FOR: MONTHLY_CHARGES\n",
      "\n",
      "H0: mean monthly_charges for customers who have churned <= mean monthly charges for those who have not churned\n",
      "H1: mean monthly_charges for customers who have churned > mean monthly charges for those who have not churned\n",
      "\n",
      "u = 1885392.5\n",
      "p = 0.0\n",
      "\n"
     ]
    }
   ],
   "source": [
    "explore.hypothesis_test_monthly_charges(train)"
   ]
  },
  {
   "cell_type": "markdown",
   "id": "52f0f528",
   "metadata": {},
   "source": [
    "The p-value of 0.0000 indicates that there is virtually a 0 percent probability that this difference would occur by chance. With this in mind, we reject the null hypothesis, and we proceed under the assumption that customers who have churned have higher average monthly charges than those who did not churn."
   ]
  },
  {
   "cell_type": "markdown",
   "id": "932e1426",
   "metadata": {},
   "source": [
    "### Further Exploration - What month (or range of months) are customers most likely to churn?"
   ]
  },
  {
   "cell_type": "markdown",
   "id": "b5d2b30e",
   "metadata": {},
   "source": [
    "The `when_customers_churn` function from the `explore` module uses the `train` sample to create the charts and visualizations shown below. "
   ]
  },
  {
   "cell_type": "code",
   "execution_count": 22,
   "id": "19207d82",
   "metadata": {
    "scrolled": true
   },
   "outputs": [
    {
     "name": "stdout",
     "output_type": "stream",
     "text": [
      "==================================================\n",
      "TENURE_MONTHS\n"
     ]
    },
    {
     "data": {
      "image/png": "[encoded data removed]",
      "text/plain": [
       "<Figure size 432x288 with 1 Axes>"
      ]
     },
     "metadata": {
      "needs_background": "light"
     },
     "output_type": "display_data"
    },
    {
     "data": {
      "image/png": "[encoded data removed]",
      "text/plain": [
       "<Figure size 432x288 with 1 Axes>"
      ]
     },
     "metadata": {
      "needs_background": "light"
     },
     "output_type": "display_data"
    },
    {
     "name": "stdout",
     "output_type": "stream",
     "text": [
      "       tenure_months\n",
      "count    1046.000000\n",
      "mean       17.433078\n",
      "std        19.212955\n",
      "min         1.000000\n",
      "25%         2.000000\n",
      "50%         9.500000\n",
      "75%        26.000000\n",
      "max        72.000000\n",
      "mode:\t\t 1\n",
      "==================================================\n",
      "TENURE_QUARTERS\n"
     ]
    },
    {
     "data": {
      "image/png": "[encoded data removed]",
      "text/plain": [
       "<Figure size 432x288 with 1 Axes>"
      ]
     },
     "metadata": {
      "needs_background": "light"
     },
     "output_type": "display_data"
    },
    {
     "data": {
      "image/png": "[encoded data removed]",
      "text/plain": [
       "<Figure size 432x288 with 1 Axes>"
      ]
     },
     "metadata": {
      "needs_background": "light"
     },
     "output_type": "display_data"
    },
    {
     "name": "stdout",
     "output_type": "stream",
     "text": [
      "       tenure_quarters\n",
      "count      1046.000000\n",
      "mean          6.206501\n",
      "std           6.362675\n",
      "min           1.000000\n",
      "25%           1.000000\n",
      "50%           3.500000\n",
      "75%           9.000000\n",
      "max          24.000000\n",
      "mode:\t\t 1\n",
      "==================================================\n",
      "TENURE_YEARS\n"
     ]
    },
    {
     "data": {
      "image/png": "[encoded data removed]",
      "text/plain": [
       "<Figure size 432x288 with 1 Axes>"
      ]
     },
     "metadata": {
      "needs_background": "light"
     },
     "output_type": "display_data"
    },
    {
     "data": {
      "image/png": "[encoded data removed]",
      "text/plain": [
       "<Figure size 432x288 with 1 Axes>"
      ]
     },
     "metadata": {
      "needs_background": "light"
     },
     "output_type": "display_data"
    },
    {
     "name": "stdout",
     "output_type": "stream",
     "text": [
      "       tenure_years\n",
      "count   1046.000000\n",
      "mean       2.038241\n",
      "std        1.509292\n",
      "min        1.000000\n",
      "25%        1.000000\n",
      "50%        1.000000\n",
      "75%        3.000000\n",
      "max        6.000000\n",
      "mode:\t\t 1\n"
     ]
    }
   ],
   "source": [
    "explore.when_customers_churn(train)"
   ]
  },
  {
   "cell_type": "markdown",
   "id": "b1543ff7",
   "metadata": {},
   "source": [
    "Customers churn most often in their first month, and on average in their 17th month.\n",
    "\n",
    "Customers churn most often in their first quarter, and on average in their 6th quarter\n",
    "\n",
    "Customers churn most often in their first year, and on average in their 2nd year. \n",
    "\n",
    "The bulk of customers (75%) churn within their first three years. "
   ]
  },
  {
   "cell_type": "markdown",
   "id": "a955240c",
   "metadata": {},
   "source": [
    "### Further Exploration - What month are customers most likely to churn - by contract type"
   ]
  },
  {
   "cell_type": "markdown",
   "id": "52cf7540",
   "metadata": {},
   "source": [
    "When we control for contract type, we see a marked difference in the typical time period a customer churns for month-to-month customers versus the other contract types. \n",
    "\n",
    "The `when_customers_churn_by_contract_type` function from the `explore` module creates the charts and visualizations shown below. "
   ]
  },
  {
   "cell_type": "code",
   "execution_count": 24,
   "id": "2ba0f810",
   "metadata": {},
   "outputs": [
    {
     "name": "stdout",
     "output_type": "stream",
     "text": [
      "==================================================\n",
      "One year\n"
     ]
    },
    {
     "data": {
      "image/png": "[encoded data removed]",
      "text/plain": [
       "<Figure size 432x288 with 1 Axes>"
      ]
     },
     "metadata": {
      "needs_background": "light"
     },
     "output_type": "display_data"
    },
    {
     "data": {
      "image/png": "[encoded data removed]",
      "text/plain": [
       "<Figure size 432x288 with 1 Axes>"
      ]
     },
     "metadata": {
      "needs_background": "light"
     },
     "output_type": "display_data"
    },
    {
     "name": "stdout",
     "output_type": "stream",
     "text": [
      "       tenure_months\n",
      "count      90.000000\n",
      "mean       46.388889\n",
      "std        18.304352\n",
      "min         7.000000\n",
      "25%        34.250000\n",
      "50%        49.000000\n",
      "75%        62.000000\n",
      "max        72.000000\n",
      "mode:\t\t 56\n",
      "==================================================\n",
      "Two year\n"
     ]
    },
    {
     "data": {
      "image/png": "[encoded data removed]",
      "text/plain": [
       "<Figure size 432x288 with 1 Axes>"
      ]
     },
     "metadata": {
      "needs_background": "light"
     },
     "output_type": "display_data"
    },
    {
     "data": {
      "image/png": "[encoded data removed]",
      "text/plain": [
       "<Figure size 432x288 with 1 Axes>"
      ]
     },
     "metadata": {
      "needs_background": "light"
     },
     "output_type": "display_data"
    },
    {
     "name": "stdout",
     "output_type": "stream",
     "text": [
      "       tenure_months\n",
      "count      24.000000\n",
      "mean       62.583333\n",
      "std        11.515270\n",
      "min        25.000000\n",
      "25%        60.250000\n",
      "50%        66.500000\n",
      "75%        70.250000\n",
      "max        72.000000\n",
      "mode:\t\t 71\n",
      "==================================================\n",
      "Month-to-month\n"
     ]
    },
    {
     "data": {
      "image/png": "[encoded data removed]",
      "text/plain": [
       "<Figure size 432x288 with 1 Axes>"
      ]
     },
     "metadata": {
      "needs_background": "light"
     },
     "output_type": "display_data"
    },
    {
     "data": {
      "image/png": "[encoded data removed]",
      "text/plain": [
       "<Figure size 432x288 with 1 Axes>"
      ]
     },
     "metadata": {
      "needs_background": "light"
     },
     "output_type": "display_data"
    },
    {
     "name": "stdout",
     "output_type": "stream",
     "text": [
      "       tenure_months\n",
      "count     932.000000\n",
      "mean       13.474249\n",
      "std        15.157192\n",
      "min         1.000000\n",
      "25%         2.000000\n",
      "50%         7.000000\n",
      "75%        20.000000\n",
      "max        69.000000\n",
      "mode:\t\t 1\n"
     ]
    }
   ],
   "source": [
    "explore.when_customers_churn_by_contract_type(train)"
   ]
  },
  {
   "cell_type": "markdown",
   "id": "477ed486",
   "metadata": {},
   "source": [
    "Here we can see that the distribution of tenure varies significantly between those with monthly contract and those with other contract types. Monthly customers, who we know are most likely to churn, also churn much earlier than their longer-contract counterparts. This should not be surprising, but it is worth noting. \n",
    "\n",
    "The average month in which monthly customers churn is their 13th month (while the most common is the 1st month). \n",
    "\n",
    "For yearly and two-year contract customers, the average is the 46th and 62nd month, respectively (most common is 56 and 71). "
   ]
  },
  {
   "cell_type": "markdown",
   "id": "61163be0",
   "metadata": {},
   "source": [
    "### Further Exploration: is there an internet service type associated with more or less churn than expected?\n",
    "i.e. is the churn rate different for any particular service type vs the overall average?"
   ]
  },
  {
   "cell_type": "markdown",
   "id": "509f6f91",
   "metadata": {},
   "source": [
    "The `churn_by_int_service_type` function from the `explore` module produces the visualization shown below. "
   ]
  },
  {
   "cell_type": "code",
   "execution_count": 25,
   "id": "27affca1",
   "metadata": {},
   "outputs": [
    {
     "data": {
      "image/png": "[encoded data removed]",
      "text/plain": [
       "<Figure size 432x288 with 1 Axes>"
      ]
     },
     "metadata": {
      "needs_background": "light"
     },
     "output_type": "display_data"
    }
   ],
   "source": [
    "explore.churn_by_int_service_type(train)"
   ]
  },
  {
   "cell_type": "markdown",
   "id": "25f9745b",
   "metadata": {},
   "source": [
    "We can see that customers with Fiber Optic internet service churn at a rate that is much higher than the overall average (represented by the dashed line). \n",
    "\n",
    "But does this difference occur by chance?"
   ]
  },
  {
   "cell_type": "markdown",
   "id": "aeff2ae1",
   "metadata": {},
   "source": [
    "#### Is whether a customer has churned independent of their internet service type?"
   ]
  },
  {
   "cell_type": "markdown",
   "id": "93c01f6e",
   "metadata": {},
   "source": [
    "Establish hypotheses\n",
    "\n",
    "H0: Whether a customer has churned is independent of their internet service type\n",
    "\n",
    "H1: Whether a customer has churned is not independent of their internet service type\n",
    "\n",
    "The `chi2_test` function from the `explore` module runs a statistical test to determine the likelihood that the differences we see between the observed and expected values of internet service type versus churn might occur by chance. "
   ]
  },
  {
   "cell_type": "code",
   "execution_count": 27,
   "id": "e14fa560",
   "metadata": {},
   "outputs": [
    {
     "name": "stdout",
     "output_type": "stream",
     "text": [
      "Observed\n",
      "\n",
      "[[1114 1013  764]\n",
      " [ 260  731   55]]\n",
      "---\n",
      "Expected\n",
      "\n",
      "[[1008.9 1280.6  601.4]\n",
      " [ 365.1  463.4  217.6]]\n",
      "---\n",
      "\n",
      "chi^2 = 417.1612\n",
      "p     = 0.0000\n",
      "\n",
      "Reject H0\n"
     ]
    }
   ],
   "source": [
    "# run the test and display results\n",
    "explore.chi2_test(train.churn, train.internet_service_type)"
   ]
  },
  {
   "cell_type": "markdown",
   "id": "d649ea07",
   "metadata": {},
   "source": [
    "Since p is < alpha, we reject the null hypothesis and proceed under the assumption that whether a customer has churned is not independent of their internet service type"
   ]
  },
  {
   "cell_type": "markdown",
   "id": "7b1e9e16",
   "metadata": {},
   "source": [
    "# MODELING"
   ]
  },
  {
   "cell_type": "markdown",
   "id": "f93177aa",
   "metadata": {},
   "source": [
    "### Decision Tree"
   ]
  },
  {
   "cell_type": "code",
   "execution_count": null,
   "id": "79cd47f5",
   "metadata": {},
   "outputs": [],
   "source": [
    "positive = 1\n",
    "target = 'enc_churn'"
   ]
  },
  {
   "cell_type": "code",
   "execution_count": null,
   "id": "73b6a8e5",
   "metadata": {},
   "outputs": [],
   "source": [
    "# create empty dataframe to store model results\n",
    "model_results = pd.DataFrame(columns=['model_number', 'metric_type', 'sample_type', 'score'])\n",
    "\n",
    "# empty dataframe to store information about the model itself\n",
    "model_info = pd.DataFrame(columns=['model_number', 'features'])"
   ]
  },
  {
   "cell_type": "code",
   "execution_count": null,
   "id": "30154c94",
   "metadata": {},
   "outputs": [],
   "source": [
    "# identify encoded feature columns\n",
    "encoded_columns = [col for col in df.columns if (col[:4] == 'enc_') and col != target]"
   ]
  },
  {
   "cell_type": "code",
   "execution_count": null,
   "id": "a48b7f35",
   "metadata": {
    "scrolled": false
   },
   "outputs": [],
   "source": [
    "# # make a list of all possible feature combinations\n",
    "# feature_combos = []\n",
    "# for i in range (1, len(encoded_columns)+1):\n",
    "#     feature_combos.extend(list(itertools.combinations(encoded_columns,i)))\n",
    "# feature_combos = [np.array(combo) for combo in feature_combos]\n"
   ]
  },
  {
   "cell_type": "code",
   "execution_count": null,
   "id": "ab42a705",
   "metadata": {},
   "outputs": [],
   "source": [
    "for col in train.columns:\n",
    "    print(col)"
   ]
  },
  {
   "cell_type": "code",
   "execution_count": null,
   "id": "f6be63a7",
   "metadata": {},
   "outputs": [],
   "source": [
    "features1 = encoded_columns\n",
    "features2 = ['enc_gender_male', \n",
    "             'enc_senior_citizen_yes', \n",
    "             'enc_partner_yes', \n",
    "             'enc_dependents_yes', \n",
    "             'enc_contract_type_one year', 'enc_contract_type_two year', \n",
    "             'enc_internet_service_type_fiber optic', 'enc_internet_service_type_none']\n",
    "feature_combos = [features1, features2]"
   ]
  },
  {
   "cell_type": "code",
   "execution_count": null,
   "id": "974d1b07",
   "metadata": {},
   "outputs": [],
   "source": [
    "# separate each sample into x and y\n",
    "x_train = train.drop(columns=target)\n",
    "y_train = train[target]\n",
    "\n",
    "x_validate = validate.drop(columns=target)\n",
    "y_validate = validate[target]\n",
    "\n",
    "x_test = test.drop(columns=target)\n",
    "y_test = test[target]\n",
    "\n",
    "# store baseline metrics\n",
    "\n",
    "model_number = 'baseline'\n",
    "model_type = 'baseline'\n",
    "\n",
    "# store info about the model\n",
    "dct = {'model_number': model_number,\n",
    "       'model_type': model_type}\n",
    "model_info = model_info.append(dct, ignore_index=True)\n",
    "\n",
    "# establish baseline predictions for train sample\n",
    "y_pred = baseline_pred = pd.Series([train[target].mode()[0]]).repeat(len(train))\n",
    "\n",
    "# get metrics\n",
    "dct = {'model_number': model_number, \n",
    "       'sample_type': 'train', \n",
    "       'metric_type': 'accuracy',\n",
    "       'score': sk.metrics.accuracy_score(y_train, y_pred)}\n",
    "model_results = model_results.append(dct, ignore_index=True)\n",
    "\n",
    "dct = {'model_number': model_number, \n",
    "       'sample_type': 'train', \n",
    "       'metric_type': 'precision',\n",
    "       'score': sk.metrics.precision_score(y_train, y_pred, pos_label=positive)}\n",
    "model_results = model_results.append(dct, ignore_index=True)\n",
    "\n",
    "dct = {'model_number': model_number, \n",
    "       'sample_type': 'train', \n",
    "       'metric_type': 'recall',\n",
    "       'score': sk.metrics.recall_score(y_train, y_pred, pos_label=positive)}\n",
    "model_results = model_results.append(dct, ignore_index=True)\n",
    "\n",
    "dct = {'model_number': model_number, \n",
    "       'sample_type': 'train', \n",
    "       'metric_type': 'f1_score',\n",
    "       'score': sk.metrics.f1_score(y_train, y_pred, pos_label=positive)}\n",
    "model_results = model_results.append(dct, ignore_index=True)\n",
    "\n",
    "# establish baseline predictions for validate sample\n",
    "y_pred = baseline_pred = pd.Series([train[target].mode()[0]]).repeat(len(validate))\n",
    "\n",
    "# get metrics\n",
    "dct = {'model_number': model_number, \n",
    "       'sample_type': 'validate', \n",
    "       'metric_type': 'f1_score',\n",
    "       'score': sk.metrics.f1_score(y_validate, y_pred, pos_label=positive)}\n",
    "model_results = model_results.append(dct, ignore_index=True)\n",
    "\n",
    "dct = {'model_number': model_number, \n",
    "       'sample_type': 'validate', \n",
    "       'metric_type': 'accuracy',\n",
    "       'score': sk.metrics.accuracy_score(y_validate, y_pred)}\n",
    "model_results = model_results.append(dct, ignore_index=True)\n",
    "\n",
    "dct = {'model_number': model_number, \n",
    "       'sample_type': 'validate', \n",
    "       'metric_type': 'precision',\n",
    "       'score': sk.metrics.precision_score(y_validate, y_pred, pos_label=positive)}\n",
    "model_results = model_results.append(dct, ignore_index=True)\n",
    "\n",
    "dct = {'model_number': model_number, \n",
    "       'sample_type': 'validate', \n",
    "       'metric_type': 'recall',\n",
    "       'score': sk.metrics.recall_score(y_validate, y_pred, pos_label=positive)}\n",
    "model_results = model_results.append(dct, ignore_index=True)\n",
    "\n",
    "model_number = 0"
   ]
  },
  {
   "cell_type": "code",
   "execution_count": null,
   "id": "166d1f25",
   "metadata": {},
   "outputs": [],
   "source": [
    "# create models and store results\n",
    "\n",
    "for features in feature_combos:\n",
    "    for max_depth in range(1, 11):\n",
    "\n",
    "        model_number += 1\n",
    "        model_type = 'decision tree'\n",
    "\n",
    "        # store info about the model\n",
    "        dct = {'model_number': model_number,\n",
    "               'model_type': model_type,\n",
    "               'features': features,\n",
    "               'max_depth': max_depth}\n",
    "        model_info = model_info.append(dct, ignore_index=True)\n",
    "\n",
    "        # separate each sample into x and y\n",
    "        x_train = train[features]\n",
    "        y_train = train[target]\n",
    "\n",
    "        x_validate = validate[features]\n",
    "        y_validate = validate[target]\n",
    "\n",
    "\n",
    "        # create the classifer\n",
    "        clf = DecisionTreeClassifier(max_depth=max_depth, random_state=42)\n",
    "\n",
    "        # fit the classifier to the training data\n",
    "        clf = clf.fit(x_train, y_train)\n",
    "\n",
    "\n",
    "        # results for train sample\n",
    "        y_pred = clf.predict(x_train)\n",
    "        sample_type = 'train'\n",
    "\n",
    "\n",
    "        # get metrics\n",
    "        dct = {'model_number': model_number, \n",
    "               'sample_type': sample_type, \n",
    "               'metric_type': 'accuracy',\n",
    "               'score': sk.metrics.accuracy_score(y_train, y_pred)}\n",
    "        model_results = model_results.append(dct, ignore_index=True)\n",
    "\n",
    "        dct = {'model_number': model_number, \n",
    "               'sample_type': sample_type, \n",
    "               'metric_type': 'precision',\n",
    "               'score': sk.metrics.precision_score(y_train, y_pred, pos_label=positive)}\n",
    "        model_results = model_results.append(dct, ignore_index=True)\n",
    "\n",
    "        dct = {'model_number': model_number, \n",
    "               'sample_type': sample_type, \n",
    "               'metric_type': 'recall',\n",
    "               'score': sk.metrics.recall_score(y_train, y_pred, pos_label=positive)}\n",
    "        model_results = model_results.append(dct, ignore_index=True)\n",
    "\n",
    "        dct = {'model_number': model_number, \n",
    "               'sample_type': sample_type, \n",
    "               'metric_type': 'f1_score',\n",
    "               'score': sk.metrics.f1_score(y_train, y_pred, pos_label=positive)}\n",
    "        model_results = model_results.append(dct, ignore_index=True)\n",
    "\n",
    "\n",
    "        # results for validate sample\n",
    "        x_train\n",
    "        y_pred = clf.predict(x_validate)\n",
    "        sample_type = 'validate'\n",
    "\n",
    "        # get metrics\n",
    "        dct = {'model_number': model_number, \n",
    "               'sample_type': sample_type, \n",
    "               'metric_type': 'f1_score',\n",
    "               'score': sk.metrics.f1_score(y_validate, y_pred, pos_label=positive)}\n",
    "        model_results = model_results.append(dct, ignore_index=True)\n",
    "\n",
    "        dct = {'model_number': model_number, \n",
    "               'sample_type': sample_type, \n",
    "               'metric_type': 'accuracy',\n",
    "               'score': sk.metrics.accuracy_score(y_validate, y_pred)}\n",
    "        model_results = model_results.append(dct, ignore_index=True)\n",
    "\n",
    "        dct = {'model_number': model_number, \n",
    "               'sample_type': sample_type, \n",
    "               'metric_type': 'precision',\n",
    "               'score': sk.metrics.precision_score(y_validate, y_pred, pos_label=positive)}\n",
    "        model_results = model_results.append(dct, ignore_index=True)\n",
    "\n",
    "        dct = {'model_number': model_number, \n",
    "               'sample_type': sample_type, \n",
    "               'metric_type': 'recall',\n",
    "               'score': sk.metrics.recall_score(y_validate, y_pred, pos_label=positive)}\n",
    "        model_results = model_results.append(dct, ignore_index=True)     "
   ]
  },
  {
   "cell_type": "code",
   "execution_count": null,
   "id": "9c00a8bb",
   "metadata": {},
   "outputs": [],
   "source": [
    "def display_model_results():\n",
    "    return model_results.pivot_table(columns='model_number', \n",
    "                                     index=('metric_type', 'sample_type'), \n",
    "                                     values='score',\n",
    "                                     aggfunc=lambda x: x)"
   ]
  },
  {
   "cell_type": "code",
   "execution_count": null,
   "id": "5e570ec3",
   "metadata": {},
   "outputs": [],
   "source": [
    "model_info"
   ]
  },
  {
   "cell_type": "code",
   "execution_count": null,
   "id": "43a7121c",
   "metadata": {},
   "outputs": [],
   "source": [
    "display_model_results()"
   ]
  },
  {
   "cell_type": "markdown",
   "id": "4d0db114",
   "metadata": {},
   "source": [
    "### Random Forest"
   ]
  },
  {
   "cell_type": "code",
   "execution_count": null,
   "id": "7d9eaadd",
   "metadata": {},
   "outputs": [],
   "source": [
    "for features in feature_combos:\n",
    "    for max_depth in range(1, 11):\n",
    "        for min_samples_leaf in range(1, 11):\n",
    "\n",
    "            model_number += 1\n",
    "\n",
    "            model_type = 'random forest'\n",
    "\n",
    "            # store info about the model\n",
    "            dct = {'model_number': model_number,\n",
    "                   'model_type': model_type,\n",
    "                   'features': features,\n",
    "                   'max_depth': max_depth, \n",
    "                   'min_samples_leaf': min_samples_leaf}\n",
    "            model_info = model_info.append(dct, ignore_index=True)\n",
    "\n",
    "            # separate each sample into x and y\n",
    "            x_train = train[features]\n",
    "            y_train = train[target]\n",
    "\n",
    "            x_validate = validate[features]\n",
    "            y_validate = validate[target]\n",
    "\n",
    "\n",
    "            # create the classifer\n",
    "            clf = RandomForestClassifier(max_depth=max_depth, \n",
    "                                         min_samples_leaf=min_samples_leaf, \n",
    "                                         random_state=42)\n",
    "\n",
    "            # fit the classifier to the training data\n",
    "            clf = clf.fit(x_train, y_train)\n",
    "\n",
    "\n",
    "            # results for train sample\n",
    "            y_pred = clf.predict(x_train)\n",
    "\n",
    "\n",
    "            # get metrics\n",
    "            dct = {'model_number': model_number, \n",
    "                   'sample_type': 'train', \n",
    "                   'metric_type': 'accuracy',\n",
    "                   'score': sk.metrics.accuracy_score(y_train, y_pred)}\n",
    "            model_results = model_results.append(dct, ignore_index=True)\n",
    "\n",
    "            dct = {'model_number': model_number, \n",
    "                   'sample_type': 'train', \n",
    "                   'metric_type': 'precision',\n",
    "                   'score': sk.metrics.precision_score(y_train, y_pred, pos_label=positive)}\n",
    "            model_results = model_results.append(dct, ignore_index=True)\n",
    "\n",
    "            dct = {'model_number': model_number, \n",
    "                   'sample_type': 'train', \n",
    "                   'metric_type': 'recall',\n",
    "                   'score': sk.metrics.recall_score(y_train, y_pred, pos_label=positive)}\n",
    "            model_results = model_results.append(dct, ignore_index=True)\n",
    "\n",
    "            dct = {'model_number': model_number, \n",
    "                   'sample_type': 'train', \n",
    "                   'metric_type': 'f1_score',\n",
    "                   'score': sk.metrics.f1_score(y_train, y_pred, pos_label=positive)}\n",
    "            model_results = model_results.append(dct, ignore_index=True)\n",
    "\n",
    "\n",
    "            # results for validate sample\n",
    "            x_train\n",
    "            y_pred = clf.predict(x_validate)\n",
    "\n",
    "            # get metrics\n",
    "            dct = {'model_number': model_number, \n",
    "                   'sample_type': 'validate', \n",
    "                   'metric_type': 'f1_score',\n",
    "                   'score': sk.metrics.f1_score(y_validate, y_pred, pos_label=positive)}\n",
    "            model_results = model_results.append(dct, ignore_index=True)\n",
    "\n",
    "            dct = {'model_number': model_number, \n",
    "                   'sample_type': 'validate', \n",
    "                   'metric_type': 'accuracy',\n",
    "                   'score': sk.metrics.accuracy_score(y_validate, y_pred)}\n",
    "            model_results = model_results.append(dct, ignore_index=True)\n",
    "\n",
    "            dct = {'model_number': model_number, \n",
    "                   'sample_type': 'validate', \n",
    "                   'metric_type': 'precision',\n",
    "                   'score': sk.metrics.precision_score(y_validate, y_pred, pos_label=positive)}\n",
    "            model_results = model_results.append(dct, ignore_index=True)\n",
    "\n",
    "            dct = {'model_number': model_number, \n",
    "                   'sample_type': 'validate', \n",
    "                   'metric_type': 'recall',\n",
    "                   'score': sk.metrics.recall_score(y_validate, y_pred, pos_label=positive)}\n",
    "            model_results = model_results.append(dct, ignore_index=True)    "
   ]
  },
  {
   "cell_type": "code",
   "execution_count": null,
   "id": "16e94fe1",
   "metadata": {},
   "outputs": [],
   "source": [
    "model_info"
   ]
  },
  {
   "cell_type": "code",
   "execution_count": null,
   "id": "f748d486",
   "metadata": {},
   "outputs": [],
   "source": [
    "display_model_results()"
   ]
  },
  {
   "cell_type": "markdown",
   "id": "624cbda4",
   "metadata": {},
   "source": [
    "### KNN"
   ]
  },
  {
   "cell_type": "code",
   "execution_count": null,
   "id": "771d8d9e",
   "metadata": {},
   "outputs": [],
   "source": [
    "for features in feature_combos:    \n",
    "    for k_neighbors in range(1, 11):\n",
    "\n",
    "        model_number += 1\n",
    "\n",
    "        model_type = 'KNN'\n",
    "\n",
    "        # store info about the model\n",
    "        dct = {'model_number': model_number,\n",
    "               'model_type': model_type,\n",
    "               'features': features,\n",
    "               'k-neighbors': k_neighbors}\n",
    "        model_info = model_info.append(dct, ignore_index=True)\n",
    "\n",
    "        # separate each sample into x and y\n",
    "        x_train = train[features]\n",
    "        y_train = train[target]\n",
    "\n",
    "        x_validate = validate[features]\n",
    "        y_validate = validate[target]\n",
    "\n",
    "\n",
    "        # create the classifer\n",
    "        clf = KNeighborsClassifier(n_neighbors=k_neighbors)\n",
    "\n",
    "        # fit the classifier to the training data\n",
    "        clf = clf.fit(x_train, y_train)\n",
    "\n",
    "\n",
    "        # results for train sample\n",
    "        y_pred = clf.predict(x_train)\n",
    "\n",
    "\n",
    "        # get metrics\n",
    "        dct = {'model_number': model_number, \n",
    "               'sample_type': 'train', \n",
    "               'metric_type': 'accuracy',\n",
    "               'score': sk.metrics.accuracy_score(y_train, y_pred)}\n",
    "        model_results = model_results.append(dct, ignore_index=True)\n",
    "\n",
    "        dct = {'model_number': model_number, \n",
    "               'sample_type': 'train', \n",
    "               'metric_type': 'precision',\n",
    "               'score': sk.metrics.precision_score(y_train, y_pred, pos_label=positive)}\n",
    "        model_results = model_results.append(dct, ignore_index=True)\n",
    "\n",
    "        dct = {'model_number': model_number, \n",
    "               'sample_type': 'train', \n",
    "               'metric_type': 'recall',\n",
    "               'score': sk.metrics.recall_score(y_train, y_pred, pos_label=positive)}\n",
    "        model_results = model_results.append(dct, ignore_index=True)\n",
    "\n",
    "        dct = {'model_number': model_number, \n",
    "               'sample_type': 'train', \n",
    "               'metric_type': 'f1_score',\n",
    "               'score': sk.metrics.f1_score(y_train, y_pred, pos_label=positive)}\n",
    "        model_results = model_results.append(dct, ignore_index=True)\n",
    "\n",
    "\n",
    "        # results for validate sample\n",
    "        x_train\n",
    "        y_pred = clf.predict(x_validate)\n",
    "\n",
    "        # get metrics\n",
    "        dct = {'model_number': model_number, \n",
    "               'sample_type': 'validate', \n",
    "               'metric_type': 'f1_score',\n",
    "               'score': sk.metrics.f1_score(y_validate, y_pred, pos_label=positive)}\n",
    "        model_results = model_results.append(dct, ignore_index=True)\n",
    "\n",
    "        dct = {'model_number': model_number, \n",
    "               'sample_type': 'validate', \n",
    "               'metric_type': 'accuracy',\n",
    "               'score': sk.metrics.accuracy_score(y_validate, y_pred)}\n",
    "        model_results = model_results.append(dct, ignore_index=True)\n",
    "\n",
    "        dct = {'model_number': model_number, \n",
    "               'sample_type': 'validate', \n",
    "               'metric_type': 'precision',\n",
    "               'score': sk.metrics.precision_score(y_validate, y_pred, pos_label=positive)}\n",
    "        model_results = model_results.append(dct, ignore_index=True)\n",
    "\n",
    "        dct = {'model_number': model_number, \n",
    "               'sample_type': 'validate', \n",
    "               'metric_type': 'recall',\n",
    "               'score': sk.metrics.recall_score(y_validate, y_pred, pos_label=positive)}\n",
    "        model_results = model_results.append(dct, ignore_index=True)    "
   ]
  },
  {
   "cell_type": "code",
   "execution_count": null,
   "id": "fc2bcb76",
   "metadata": {},
   "outputs": [],
   "source": [
    "model_info"
   ]
  },
  {
   "cell_type": "code",
   "execution_count": null,
   "id": "960754b2",
   "metadata": {},
   "outputs": [],
   "source": [
    "display_model_results()"
   ]
  },
  {
   "cell_type": "markdown",
   "id": "1357a862",
   "metadata": {},
   "source": [
    "### Logistic Regression"
   ]
  },
  {
   "cell_type": "code",
   "execution_count": null,
   "id": "76801f9e",
   "metadata": {},
   "outputs": [],
   "source": [
    "for features in feature_combos:    \n",
    "    for c_value in [.001, .01, .1, 1, 10, 100, 1000]:\n",
    "\n",
    "        model_number += 1\n",
    "\n",
    "        model_type = 'logistic regression'\n",
    "\n",
    "        # store info about the model\n",
    "        dct = {'model_number': model_number,\n",
    "               'model_type': model_type,\n",
    "               'features': features,\n",
    "               'c_value': c_value}\n",
    "        model_info = model_info.append(dct, ignore_index=True)\n",
    "\n",
    "        # separate each sample into x and y\n",
    "        x_train = train[features]\n",
    "        y_train = train[target]\n",
    "\n",
    "        x_validate = validate[features]\n",
    "        y_validate = validate[target]\n",
    "\n",
    "\n",
    "        # create the classifier\n",
    "        clf = LogisticRegression(C=c_value)\n",
    "\n",
    "        # fit the classifier to the training data\n",
    "        clf = clf.fit(x_train, y_train)\n",
    "\n",
    "\n",
    "        # results for train sample\n",
    "        y_pred = clf.predict(x_train)\n",
    "\n",
    "\n",
    "        # get metrics\n",
    "        dct = {'model_number': model_number, \n",
    "               'sample_type': 'train', \n",
    "               'metric_type': 'accuracy',\n",
    "               'score': sk.metrics.accuracy_score(y_train, y_pred)}\n",
    "        model_results = model_results.append(dct, ignore_index=True)\n",
    "\n",
    "        dct = {'model_number': model_number, \n",
    "               'sample_type': 'train', \n",
    "               'metric_type': 'precision',\n",
    "               'score': sk.metrics.precision_score(y_train, y_pred, pos_label=positive)}\n",
    "        model_results = model_results.append(dct, ignore_index=True)\n",
    "\n",
    "        dct = {'model_number': model_number, \n",
    "               'sample_type': 'train', \n",
    "               'metric_type': 'recall',\n",
    "               'score': sk.metrics.recall_score(y_train, y_pred, pos_label=positive)}\n",
    "        model_results = model_results.append(dct, ignore_index=True)\n",
    "\n",
    "        dct = {'model_number': model_number, \n",
    "               'sample_type': 'train', \n",
    "               'metric_type': 'f1_score',\n",
    "               'score': sk.metrics.f1_score(y_train, y_pred, pos_label=positive)}\n",
    "        model_results = model_results.append(dct, ignore_index=True)\n",
    "\n",
    "\n",
    "        # results for validate sample\n",
    "        x_train\n",
    "        y_pred = clf.predict(x_validate)\n",
    "\n",
    "        # get metrics\n",
    "        dct = {'model_number': model_number, \n",
    "               'sample_type': 'validate', \n",
    "               'metric_type': 'f1_score',\n",
    "               'score': sk.metrics.f1_score(y_validate, y_pred, pos_label=positive)}\n",
    "        model_results = model_results.append(dct, ignore_index=True)\n",
    "\n",
    "        dct = {'model_number': model_number, \n",
    "               'sample_type': 'validate', \n",
    "               'metric_type': 'accuracy',\n",
    "               'score': sk.metrics.accuracy_score(y_validate, y_pred)}\n",
    "        model_results = model_results.append(dct, ignore_index=True)\n",
    "\n",
    "        dct = {'model_number': model_number, \n",
    "               'sample_type': 'validate', \n",
    "               'metric_type': 'precision',\n",
    "               'score': sk.metrics.precision_score(y_validate, y_pred, pos_label=positive)}\n",
    "        model_results = model_results.append(dct, ignore_index=True)\n",
    "\n",
    "        dct = {'model_number': model_number, \n",
    "               'sample_type': 'validate', \n",
    "               'metric_type': 'recall',\n",
    "               'score': sk.metrics.recall_score(y_validate, y_pred, pos_label=positive)}\n",
    "        model_results = model_results.append(dct, ignore_index=True)    "
   ]
  },
  {
   "cell_type": "code",
   "execution_count": null,
   "id": "22638af1",
   "metadata": {},
   "outputs": [],
   "source": [
    "model_info"
   ]
  },
  {
   "cell_type": "code",
   "execution_count": null,
   "id": "9c5a6f4a",
   "metadata": {},
   "outputs": [],
   "source": [
    "display_model_results()"
   ]
  },
  {
   "cell_type": "code",
   "execution_count": null,
   "id": "987711fa",
   "metadata": {},
   "outputs": [],
   "source": [
    "train_accuracy = model_results[(model_results.sample_type == 'train') & (model_results.metric_type == 'accuracy')]\n",
    "train_accuracy[train_accuracy.score == train_accuracy.score.max()]"
   ]
  },
  {
   "cell_type": "code",
   "execution_count": null,
   "id": "25b59a3c",
   "metadata": {},
   "outputs": [],
   "source": [
    "validate_accuracy = model_results[(model_results.sample_type == 'validate') & (model_results.metric_type == 'accuracy')]\n",
    "validate_accuracy[validate_accuracy.score == validate_accuracy.score.max()]"
   ]
  },
  {
   "cell_type": "code",
   "execution_count": null,
   "id": "5b81eca4",
   "metadata": {},
   "outputs": [],
   "source": [
    "df.head()"
   ]
  },
  {
   "cell_type": "code",
   "execution_count": null,
   "id": "6b612a02",
   "metadata": {},
   "outputs": [],
   "source": [
    "df.payment_type.unique()"
   ]
  },
  {
   "cell_type": "code",
   "execution_count": null,
   "id": "9336e439",
   "metadata": {},
   "outputs": [],
   "source": []
  }
 ],
 "metadata": {
  "kernelspec": {
   "display_name": "Python 3 (ipykernel)",
   "language": "python",
   "name": "python3"
  },
  "language_info": {
   "codemirror_mode": {
    "name": "ipython",
    "version": 3
   },
   "file_extension": ".py",
   "mimetype": "text/x-python",
   "name": "python",
   "nbconvert_exporter": "python",
   "pygments_lexer": "ipython3",
   "version": "3.9.7"
  }
 },
 "nbformat": 4,
 "nbformat_minor": 5
}
